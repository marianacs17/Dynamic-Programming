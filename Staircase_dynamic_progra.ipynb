{
  "nbformat": 4,
  "nbformat_minor": 0,
  "metadata": {
    "colab": {
      "name": "Staircase dynamic progra",
      "provenance": [],
      "collapsed_sections": []
    },
    "kernelspec": {
      "name": "python3",
      "display_name": "Python 3"
    }
  },
  "cells": [
    {
      "cell_type": "code",
      "metadata": {
        "id": "hf1Ah0yiIAEg"
      },
      "source": [
        "def steps_bottom(n):\n",
        "    if n == 1 or n == 2:\n",
        "        return 1\n",
        "    bottom_up = [None] * (n + 1)\n",
        "    bottom_up[0] = 1\n",
        "    bottom_up[1] = 1\n",
        "    bottom_up[2] = 2\n",
        "    for i in range(3, n + 1):\n",
        "        bottom_up[i] = bottom_up[i - 1] + bottom_up[i - 2] + bottom_up[i - 3]\n",
        "    return bottom_up[n]"
      ],
      "execution_count": 9,
      "outputs": []
    },
    {
      "cell_type": "code",
      "metadata": {
        "colab": {
          "base_uri": "https://localhost:8080/"
        },
        "id": "_FcvUz5oT99G",
        "outputId": "7d7979aa-f523-44c6-e4bd-a3674c06dc51"
      },
      "source": [
        "steps_bottom(4)"
      ],
      "execution_count": 10,
      "outputs": [
        {
          "output_type": "execute_result",
          "data": {
            "text/plain": [
              "7"
            ]
          },
          "metadata": {
            "tags": []
          },
          "execution_count": 10
        }
      ]
    },
    {
      "cell_type": "code",
      "metadata": {
        "colab": {
          "base_uri": "https://localhost:8080/"
        },
        "id": "KKJS820FSVm3",
        "outputId": "1c7a4c1b-22ff-4273-ccbe-653e966db404"
      },
      "source": [
        "steps_bottom(35)"
      ],
      "execution_count": 11,
      "outputs": [
        {
          "output_type": "execute_result",
          "data": {
            "text/plain": [
              "1132436852"
            ]
          },
          "metadata": {
            "tags": []
          },
          "execution_count": 11
        }
      ]
    },
    {
      "cell_type": "code",
      "metadata": {
        "colab": {
          "base_uri": "https://localhost:8080/"
        },
        "id": "dRfpAm1kTie0",
        "outputId": "31c0a662-473a-4497-bc2b-413ca115211f"
      },
      "source": [
        "steps_bottom(50)  "
      ],
      "execution_count": 12,
      "outputs": [
        {
          "output_type": "execute_result",
          "data": {
            "text/plain": [
              "10562230626642"
            ]
          },
          "metadata": {
            "tags": []
          },
          "execution_count": 12
        }
      ]
    }
  ]
}